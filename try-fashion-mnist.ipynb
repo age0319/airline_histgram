{
 "cells": [
  {
   "cell_type": "code",
   "execution_count": 1,
   "metadata": {},
   "outputs": [
    {
     "name": "stderr",
     "output_type": "stream",
     "text": [
      "Using TensorFlow backend.\n"
     ]
    }
   ],
   "source": [
    "import keras"
   ]
  },
  {
   "cell_type": "code",
   "execution_count": 2,
   "metadata": {},
   "outputs": [],
   "source": [
    "import mnist_reader\n",
    "\n",
    "X_train, y_train = mnist_reader.load_mnist('../data/fashion', kind='train')\n",
    "X_test, y_test = mnist_reader.load_mnist('../data/fashion', kind='t10k')"
   ]
  },
  {
   "cell_type": "code",
   "execution_count": 4,
   "metadata": {},
   "outputs": [
    {
     "name": "stdout",
     "output_type": "stream",
     "text": [
      "9\n",
      "0\n",
      "0\n",
      "3\n",
      "0\n",
      "2\n",
      "7\n",
      "2\n",
      "5\n",
      "5\n"
     ]
    },
    {
     "data": {
      "image/png": "[encoded data removed]",
      "text/plain": [
       "<Figure size 432x288 with 10 Axes>"
      ]
     },
     "metadata": {
      "needs_background": "light"
     },
     "output_type": "display_data"
    }
   ],
   "source": [
    "import matplotlib.pyplot as plt\n",
    "%matplotlib inline\n",
    "\n",
    "for i in range(10):\n",
    "    plt.subplot(2,5,i+1)\n",
    "    plt.imshow(X_train[i].reshape(28,28),cmap=None)\n",
    "    print(y_train[i])\n",
    "    \n",
    "plt.show()"
   ]
  },
  {
   "cell_type": "code",
   "execution_count": 6,
   "metadata": {},
   "outputs": [
    {
     "name": "stdout",
     "output_type": "stream",
     "text": [
      "(60000, 784)\n",
      "(10000, 784)\n",
      "(60000, 10)\n",
      "(10000, 10)\n"
     ]
    }
   ],
   "source": [
    "num_classes = 10\n",
    "# floatに変換\n",
    "X_train = X_train.astype('float32')\n",
    "X_test = X_test.astype('float32')\n",
    "# 0-1に正規化\n",
    "X_train /= 255\n",
    "X_test /= 255\n",
    "# クラス数をセット\n",
    "y_train = keras.utils.to_categorical(y_train,num_classes)\n",
    "y_test = keras.utils.to_categorical(y_test,num_classes)\n",
    " \n",
    "print(X_train.shape)\n",
    "print(X_test.shape)\n",
    "print(y_train.shape)\n",
    "print(y_test.shape)"
   ]
  },
  {
   "cell_type": "code",
   "execution_count": 8,
   "metadata": {},
   "outputs": [
    {
     "name": "stdout",
     "output_type": "stream",
     "text": [
      "_________________________________________________________________\n",
      "Layer (type)                 Output Shape              Param #   \n",
      "=================================================================\n",
      "dense_1 (Dense)              (None, 512)               401920    \n",
      "_________________________________________________________________\n",
      "activation_1 (Activation)    (None, 512)               0         \n",
      "_________________________________________________________________\n",
      "dropout_1 (Dropout)          (None, 512)               0         \n",
      "_________________________________________________________________\n",
      "dense_2 (Dense)              (None, 512)               262656    \n",
      "_________________________________________________________________\n",
      "activation_2 (Activation)    (None, 512)               0         \n",
      "_________________________________________________________________\n",
      "dropout_2 (Dropout)          (None, 512)               0         \n",
      "_________________________________________________________________\n",
      "dense_3 (Dense)              (None, 10)                5130      \n",
      "_________________________________________________________________\n",
      "activation_3 (Activation)    (None, 10)                0         \n",
      "=================================================================\n",
      "Total params: 669,706\n",
      "Trainable params: 669,706\n",
      "Non-trainable params: 0\n",
      "_________________________________________________________________\n"
     ]
    }
   ],
   "source": [
    "from keras.models import Sequential\n",
    "from keras.layers.core import Dense, Dropout, Activation\n",
    "from keras.optimizers import RMSprop\n",
    "from keras.callbacks import EarlyStopping, CSVLogger\n",
    "\n",
    "model = Sequential()\n",
    " \n",
    "model.add(Dense(512,input_shape=(784,)))\n",
    "model.add(Activation('relu'))\n",
    "model.add(Dropout(0.2))\n",
    "model.add(Dense(512))\n",
    "model.add(Activation('relu'))\n",
    "model.add(Dropout(0.2))\n",
    "model.add(Dense(10))\n",
    "model.add(Activation('softmax'))\n",
    " \n",
    "model.summary()"
   ]
  },
  {
   "cell_type": "code",
   "execution_count": 11,
   "metadata": {},
   "outputs": [
    {
     "name": "stdout",
     "output_type": "stream",
     "text": [
      "Train on 54000 samples, validate on 6000 samples\n",
      "Epoch 1/20\n",
      "54000/54000 [==============================] - 4s 70us/step - loss: 0.9378 - acc: 0.6537 - val_loss: 0.6110 - val_acc: 0.7802\n",
      "Epoch 2/20\n",
      "54000/54000 [==============================] - 2s 33us/step - loss: 0.5879 - acc: 0.7804 - val_loss: 0.5594 - val_acc: 0.7897\n",
      "Epoch 3/20\n",
      "54000/54000 [==============================] - 2s 34us/step - loss: 0.5061 - acc: 0.8159 - val_loss: 0.4802 - val_acc: 0.8220\n",
      "Epoch 4/20\n",
      "54000/54000 [==============================] - 2s 33us/step - loss: 0.4607 - acc: 0.8318 - val_loss: 0.4349 - val_acc: 0.8377\n",
      "Epoch 5/20\n",
      "54000/54000 [==============================] - 2s 34us/step - loss: 0.4288 - acc: 0.8439 - val_loss: 0.4071 - val_acc: 0.8500\n",
      "Epoch 6/20\n",
      "54000/54000 [==============================] - 2s 33us/step - loss: 0.4054 - acc: 0.8530 - val_loss: 0.3884 - val_acc: 0.8560\n",
      "Epoch 7/20\n",
      "54000/54000 [==============================] - 2s 34us/step - loss: 0.3886 - acc: 0.8570 - val_loss: 0.3755 - val_acc: 0.8602\n",
      "Epoch 8/20\n",
      "54000/54000 [==============================] - 2s 33us/step - loss: 0.3753 - acc: 0.8638 - val_loss: 0.4010 - val_acc: 0.8490\n",
      "Epoch 9/20\n",
      "54000/54000 [==============================] - 2s 33us/step - loss: 0.3611 - acc: 0.8682 - val_loss: 0.3599 - val_acc: 0.8658\n",
      "Epoch 10/20\n",
      "54000/54000 [==============================] - 2s 33us/step - loss: 0.3512 - acc: 0.8717 - val_loss: 0.3542 - val_acc: 0.8718\n",
      "Epoch 11/20\n",
      "54000/54000 [==============================] - 2s 33us/step - loss: 0.3421 - acc: 0.8747 - val_loss: 0.3546 - val_acc: 0.8702\n",
      "Epoch 12/20\n",
      "54000/54000 [==============================] - 2s 33us/step - loss: 0.3347 - acc: 0.8775 - val_loss: 0.3436 - val_acc: 0.8780\n",
      "Epoch 13/20\n",
      "54000/54000 [==============================] - 2s 33us/step - loss: 0.3261 - acc: 0.8817 - val_loss: 0.3354 - val_acc: 0.8773\n",
      "Epoch 14/20\n",
      "54000/54000 [==============================] - 2s 33us/step - loss: 0.3188 - acc: 0.8838 - val_loss: 0.3341 - val_acc: 0.8775\n",
      "Epoch 15/20\n",
      "54000/54000 [==============================] - 2s 33us/step - loss: 0.3140 - acc: 0.8841 - val_loss: 0.3281 - val_acc: 0.8790\n",
      "Epoch 16/20\n",
      "54000/54000 [==============================] - 2s 34us/step - loss: 0.3066 - acc: 0.8870 - val_loss: 0.3350 - val_acc: 0.8780\n",
      "Epoch 17/20\n",
      "54000/54000 [==============================] - 2s 33us/step - loss: 0.3026 - acc: 0.8887 - val_loss: 0.3312 - val_acc: 0.8777\n"
     ]
    }
   ],
   "source": [
    "#訓練データの1個のデータ数\n",
    "batch_size = 128\n",
    "# 誤差逆伝播法の繰り返しの回数\n",
    "epochs = 20\n",
    "\n",
    "model.compile(loss=\"categorical_crossentropy\",\n",
    "             optimizer=RMSprop(),\n",
    "             metrics=['accuracy'])\n",
    " \n",
    "es = EarlyStopping(monitor='val_loss',patience=2)\n",
    "csv_logger = CSVLogger('training.log')\n",
    "hist = model.fit(X_train,y_train,\n",
    "                batch_size=batch_size,\n",
    "                epochs=epochs,\n",
    "                verbose=1,\n",
    "                validation_split=0.1,\n",
    "                callbacks=[es,csv_logger])"
   ]
  },
  {
   "cell_type": "code",
   "execution_count": 12,
   "metadata": {},
   "outputs": [
    {
     "name": "stdout",
     "output_type": "stream",
     "text": [
      "test loss: 0.35610517823696136\n",
      "test acc: 0.8704\n"
     ]
    }
   ],
   "source": [
    "score = model.evaluate(X_test,y_test,verbose=0)\n",
    "print('test loss:',score[0])\n",
    "print('test acc:',score[1])"
   ]
  },
  {
   "cell_type": "code",
   "execution_count": 13,
   "metadata": {},
   "outputs": [
    {
     "data": {
      "text/plain": [
       "<function matplotlib.pyplot.show(*args, **kw)>"
      ]
     },
     "execution_count": 13,
     "metadata": {},
     "output_type": "execute_result"
    },
    {
     "data": {
      "image/png": "[encoded data removed]",
      "text/plain": [
       "<Figure size 432x288 with 1 Axes>"
      ]
     },
     "metadata": {
      "needs_background": "light"
     },
     "output_type": "display_data"
    }
   ],
   "source": [
    "loss = hist.history['loss']\n",
    "val_loss = hist.history['val_loss']\n",
    " \n",
    "epochs = len(loss)\n",
    " \n",
    "plt.plot(range(epochs),loss,marker='.',label='loss(training data)')\n",
    "plt.plot(range(epochs),val_loss,marker='.', label='val_loss(evaluation data)')\n",
    "plt.legend(loc='best')\n",
    "plt.grid()\n",
    "plt.xlabel('epoch')\n",
    "plt.ylabel('loss')\n",
    "plt.show"
   ]
  },
  {
   "cell_type": "code",
   "execution_count": null,
   "metadata": {},
   "outputs": [],
   "source": []
  }
 ],
 "metadata": {
  "kernelspec": {
   "display_name": "TensorFlow-GPU",
   "language": "python",
   "name": "tf-gpu"
  },
  "language_info": {
   "codemirror_mode": {
    "name": "ipython",
    "version": 3
   },
   "file_extension": ".py",
   "mimetype": "text/x-python",
   "name": "python",
   "nbconvert_exporter": "python",
   "pygments_lexer": "ipython3",
   "version": "3.6.8"
  }
 },
 "nbformat": 4,
 "nbformat_minor": 2
}
