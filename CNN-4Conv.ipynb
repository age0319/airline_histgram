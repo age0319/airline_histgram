{
 "cells": [
  {
   "cell_type": "code",
   "execution_count": 1,
   "metadata": {},
   "outputs": [
    {
     "name": "stderr",
     "output_type": "stream",
     "text": [
      "Using TensorFlow backend.\n"
     ]
    }
   ],
   "source": [
    "import keras\n",
    "import mnist_reader\n",
    "import numpy as np\n",
    "from keras.utils import to_categorical\n",
    "from sklearn.model_selection import train_test_split"
   ]
  },
  {
   "cell_type": "code",
   "execution_count": 2,
   "metadata": {},
   "outputs": [],
   "source": [
    "X_train, y_train = mnist_reader.load_mnist('../data/fashion', kind='train')\n",
    "X_test, y_test = mnist_reader.load_mnist('../data/fashion', kind='t10k')\n",
    "\n",
    "# (80%) を訓練用データに、(20%)を検証用データとして使う\n",
    "X_train, X_val, y_train, y_val = train_test_split(X_train, y_train, test_size=0.2, random_state=13)"
   ]
  },
  {
   "cell_type": "code",
   "execution_count": 3,
   "metadata": {},
   "outputs": [
    {
     "name": "stdout",
     "output_type": "stream",
     "text": [
      "(48000, 784)\n",
      "(48000,)\n",
      "(12000, 784)\n",
      "(12000,)\n"
     ]
    }
   ],
   "source": [
    "print(X_train.shape)\n",
    "print(y_train.shape)\n",
    "print(X_val.shape)\n",
    "print(y_val.shape)"
   ]
  },
  {
   "cell_type": "markdown",
   "metadata": {},
   "source": [
    "### 画像データの処理\n",
    " - (画像枚数,28,28,1)の形に変換する"
   ]
  },
  {
   "cell_type": "code",
   "execution_count": 4,
   "metadata": {},
   "outputs": [],
   "source": [
    "# Each image's dimension is 28 x 28\n",
    "img_rows, img_cols = 28, 28\n",
    "input_shape = (img_rows, img_cols, 1)\n",
    "\n",
    "# Prepare the training images\n",
    "X_train = X_train.reshape(X_train.shape[0], img_rows, img_cols, 1)\n",
    "X_train = X_train.astype('float32')\n",
    "X_train /= 255\n",
    "\n",
    "# Prepare the test images\n",
    "X_test = X_test.reshape(X_test.shape[0], img_rows, img_cols, 1)\n",
    "X_test = X_test.astype('float32')\n",
    "X_test /= 255\n",
    "\n",
    "# Prepare the validation images\n",
    "X_val = X_val.reshape(X_val.shape[0], img_rows, img_cols, 1)\n",
    "X_val = X_val.astype('float32')\n",
    "X_val /= 255"
   ]
  },
  {
   "cell_type": "markdown",
   "metadata": {},
   "source": [
    "### ラベルデータの変換\n",
    " - 10次元のベクトルにする"
   ]
  },
  {
   "cell_type": "code",
   "execution_count": 5,
   "metadata": {},
   "outputs": [],
   "source": [
    "num_classes = 10\n",
    "\n",
    "y_train = keras.utils.to_categorical(y_train,num_classes)\n",
    "y_val = keras.utils.to_categorical(y_val,num_classes)\n",
    "y_test = keras.utils.to_categorical(y_test,num_classes)"
   ]
  },
  {
   "cell_type": "code",
   "execution_count": 6,
   "metadata": {},
   "outputs": [],
   "source": [
    "import keras\n",
    "from keras.models import Sequential\n",
    "from keras.layers import Dense, Dropout, Flatten\n",
    "from keras.layers import Conv2D, MaxPooling2D, BatchNormalization\n",
    "\n",
    "cnn4 = Sequential()\n",
    "cnn4.add(Conv2D(32, kernel_size=(3, 3), activation='relu', input_shape=input_shape))\n",
    "cnn4.add(BatchNormalization())\n",
    "\n",
    "cnn4.add(Conv2D(32, kernel_size=(3, 3), activation='relu'))\n",
    "cnn4.add(BatchNormalization())\n",
    "cnn4.add(MaxPooling2D(pool_size=(2, 2)))\n",
    "cnn4.add(Dropout(0.25))\n",
    "\n",
    "cnn4.add(Conv2D(64, kernel_size=(3, 3), activation='relu'))\n",
    "cnn4.add(BatchNormalization())\n",
    "cnn4.add(Dropout(0.25))\n",
    "\n",
    "cnn4.add(Conv2D(128, kernel_size=(3, 3), activation='relu'))\n",
    "cnn4.add(BatchNormalization())\n",
    "cnn4.add(MaxPooling2D(pool_size=(2, 2)))\n",
    "cnn4.add(Dropout(0.25))\n",
    "\n",
    "cnn4.add(Flatten())\n",
    "\n",
    "cnn4.add(Dense(512, activation='relu'))\n",
    "cnn4.add(BatchNormalization())\n",
    "cnn4.add(Dropout(0.5))\n",
    "\n",
    "cnn4.add(Dense(128, activation='relu'))\n",
    "cnn4.add(BatchNormalization())\n",
    "cnn4.add(Dropout(0.5))\n",
    "\n",
    "cnn4.add(Dense(10, activation='softmax'))\n",
    "\n",
    "cnn4.compile(loss=keras.losses.categorical_crossentropy,\n",
    "              optimizer=keras.optimizers.Adam(),\n",
    "              metrics=['accuracy'])"
   ]
  },
  {
   "cell_type": "code",
   "execution_count": 7,
   "metadata": {},
   "outputs": [
    {
     "name": "stdout",
     "output_type": "stream",
     "text": [
      "_________________________________________________________________\n",
      "Layer (type)                 Output Shape              Param #   \n",
      "=================================================================\n",
      "conv2d_1 (Conv2D)            (None, 26, 26, 32)        320       \n",
      "_________________________________________________________________\n",
      "batch_normalization_1 (Batch (None, 26, 26, 32)        128       \n",
      "_________________________________________________________________\n",
      "conv2d_2 (Conv2D)            (None, 24, 24, 32)        9248      \n",
      "_________________________________________________________________\n",
      "batch_normalization_2 (Batch (None, 24, 24, 32)        128       \n",
      "_________________________________________________________________\n",
      "max_pooling2d_1 (MaxPooling2 (None, 12, 12, 32)        0         \n",
      "_________________________________________________________________\n",
      "dropout_1 (Dropout)          (None, 12, 12, 32)        0         \n",
      "_________________________________________________________________\n",
      "conv2d_3 (Conv2D)            (None, 10, 10, 64)        18496     \n",
      "_________________________________________________________________\n",
      "batch_normalization_3 (Batch (None, 10, 10, 64)        256       \n",
      "_________________________________________________________________\n",
      "dropout_2 (Dropout)          (None, 10, 10, 64)        0         \n",
      "_________________________________________________________________\n",
      "conv2d_4 (Conv2D)            (None, 8, 8, 128)         73856     \n",
      "_________________________________________________________________\n",
      "batch_normalization_4 (Batch (None, 8, 8, 128)         512       \n",
      "_________________________________________________________________\n",
      "max_pooling2d_2 (MaxPooling2 (None, 4, 4, 128)         0         \n",
      "_________________________________________________________________\n",
      "dropout_3 (Dropout)          (None, 4, 4, 128)         0         \n",
      "_________________________________________________________________\n",
      "flatten_1 (Flatten)          (None, 2048)              0         \n",
      "_________________________________________________________________\n",
      "dense_1 (Dense)              (None, 512)               1049088   \n",
      "_________________________________________________________________\n",
      "batch_normalization_5 (Batch (None, 512)               2048      \n",
      "_________________________________________________________________\n",
      "dropout_4 (Dropout)          (None, 512)               0         \n",
      "_________________________________________________________________\n",
      "dense_2 (Dense)              (None, 128)               65664     \n",
      "_________________________________________________________________\n",
      "batch_normalization_6 (Batch (None, 128)               512       \n",
      "_________________________________________________________________\n",
      "dropout_5 (Dropout)          (None, 128)               0         \n",
      "_________________________________________________________________\n",
      "dense_3 (Dense)              (None, 10)                1290      \n",
      "=================================================================\n",
      "Total params: 1,221,546\n",
      "Trainable params: 1,219,754\n",
      "Non-trainable params: 1,792\n",
      "_________________________________________________________________\n"
     ]
    }
   ],
   "source": [
    "cnn4.summary()"
   ]
  },
  {
   "cell_type": "code",
   "execution_count": 8,
   "metadata": {},
   "outputs": [
    {
     "name": "stdout",
     "output_type": "stream",
     "text": [
      "Train on 48000 samples, validate on 12000 samples\n",
      "Epoch 1/10\n",
      "48000/48000 [==============================] - 9s 181us/step - loss: 0.7624 - acc: 0.7346 - val_loss: 0.3933 - val_acc: 0.8604\n",
      "Epoch 2/10\n",
      "48000/48000 [==============================] - 6s 124us/step - loss: 0.4383 - acc: 0.8427 - val_loss: 0.3390 - val_acc: 0.8813\n",
      "Epoch 3/10\n",
      "48000/48000 [==============================] - 6s 124us/step - loss: 0.3662 - acc: 0.8689 - val_loss: 0.3360 - val_acc: 0.8803\n",
      "Epoch 4/10\n",
      "48000/48000 [==============================] - 6s 125us/step - loss: 0.3309 - acc: 0.8819 - val_loss: 0.2697 - val_acc: 0.9050\n",
      "Epoch 5/10\n",
      "48000/48000 [==============================] - 6s 126us/step - loss: 0.3029 - acc: 0.8911 - val_loss: 0.2731 - val_acc: 0.9038\n",
      "Epoch 6/10\n",
      "48000/48000 [==============================] - 6s 125us/step - loss: 0.2817 - acc: 0.8991 - val_loss: 0.2695 - val_acc: 0.9055\n",
      "Epoch 7/10\n",
      "48000/48000 [==============================] - 6s 125us/step - loss: 0.2711 - acc: 0.9020 - val_loss: 0.2629 - val_acc: 0.9053\n",
      "Epoch 8/10\n",
      "48000/48000 [==============================] - 6s 125us/step - loss: 0.2540 - acc: 0.9087 - val_loss: 0.2488 - val_acc: 0.9132\n",
      "Epoch 9/10\n",
      "48000/48000 [==============================] - 6s 125us/step - loss: 0.2447 - acc: 0.9127 - val_loss: 0.2393 - val_acc: 0.9165\n",
      "Epoch 10/10\n",
      "48000/48000 [==============================] - 6s 125us/step - loss: 0.2372 - acc: 0.9146 - val_loss: 0.2281 - val_acc: 0.9203\n"
     ]
    }
   ],
   "source": [
    "history4 = cnn4.fit(X_train, y_train,\n",
    "          batch_size=256,\n",
    "          epochs=10,\n",
    "          verbose=1,\n",
    "          validation_data=(X_val, y_val))"
   ]
  },
  {
   "cell_type": "code",
   "execution_count": 9,
   "metadata": {},
   "outputs": [
    {
     "name": "stdout",
     "output_type": "stream",
     "text": [
      "Test loss: 0.23880036748051645\n",
      "Test accuracy: 0.9118\n"
     ]
    }
   ],
   "source": [
    "score4 = cnn4.evaluate(X_test, y_test, verbose=0)\n",
    "print('Test loss:', score4[0])\n",
    "print('Test accuracy:', score4[1])"
   ]
  },
  {
   "cell_type": "markdown",
   "metadata": {},
   "source": [
    "### データ拡張をやってみる"
   ]
  },
  {
   "cell_type": "code",
   "execution_count": 10,
   "metadata": {},
   "outputs": [],
   "source": [
    "from keras.preprocessing.image import ImageDataGenerator\n",
    "gen = ImageDataGenerator(rotation_range=8, width_shift_range=0.08, shear_range=0.3,\n",
    "                               height_shift_range=0.08, zoom_range=0.08)\n",
    "train_batches = gen.flow(X_train, y_train, batch_size=256)\n",
    "val_batches = gen.flow(X_val, y_val, batch_size=256)"
   ]
  },
  {
   "cell_type": "code",
   "execution_count": 11,
   "metadata": {},
   "outputs": [
    {
     "name": "stdout",
     "output_type": "stream",
     "text": [
      "Epoch 1/50\n",
      "187/187 [==============================] - 9s 47ms/step - loss: 0.4005 - acc: 0.8564 - val_loss: 0.3196 - val_acc: 0.8810\n",
      "Epoch 2/50\n",
      "187/187 [==============================] - 9s 49ms/step - loss: 0.3559 - acc: 0.8702 - val_loss: 0.3191 - val_acc: 0.8857\n",
      "Epoch 3/50\n",
      "187/187 [==============================] - 9s 50ms/step - loss: 0.3402 - acc: 0.8778 - val_loss: 0.3164 - val_acc: 0.8879\n",
      "Epoch 4/50\n",
      "187/187 [==============================] - 9s 50ms/step - loss: 0.3288 - acc: 0.8785 - val_loss: 0.3075 - val_acc: 0.8862\n",
      "Epoch 5/50\n",
      "187/187 [==============================] - 9s 49ms/step - loss: 0.3159 - acc: 0.8838 - val_loss: 0.2990 - val_acc: 0.8902\n",
      "Epoch 6/50\n",
      "187/187 [==============================] - 9s 49ms/step - loss: 0.3119 - acc: 0.8860 - val_loss: 0.2865 - val_acc: 0.8952\n",
      "Epoch 7/50\n",
      "187/187 [==============================] - 9s 49ms/step - loss: 0.3051 - acc: 0.8909 - val_loss: 0.2651 - val_acc: 0.9035\n",
      "Epoch 8/50\n",
      "187/187 [==============================] - 9s 47ms/step - loss: 0.2998 - acc: 0.8904 - val_loss: 0.2905 - val_acc: 0.8925\n",
      "Epoch 9/50\n",
      "187/187 [==============================] - 9s 48ms/step - loss: 0.2964 - acc: 0.8920 - val_loss: 0.2838 - val_acc: 0.8977\n",
      "Epoch 10/50\n",
      "187/187 [==============================] - 9s 47ms/step - loss: 0.2896 - acc: 0.8962 - val_loss: 0.2581 - val_acc: 0.9052\n",
      "Epoch 11/50\n",
      "187/187 [==============================] - 9s 47ms/step - loss: 0.2824 - acc: 0.8964 - val_loss: 0.2461 - val_acc: 0.9120\n",
      "Epoch 12/50\n",
      "187/187 [==============================] - 9s 49ms/step - loss: 0.2823 - acc: 0.8972 - val_loss: 0.2369 - val_acc: 0.9116\n",
      "Epoch 13/50\n",
      "187/187 [==============================] - 9s 47ms/step - loss: 0.2758 - acc: 0.8992 - val_loss: 0.2642 - val_acc: 0.9053\n",
      "Epoch 14/50\n",
      "187/187 [==============================] - 9s 47ms/step - loss: 0.2690 - acc: 0.9021 - val_loss: 0.2364 - val_acc: 0.9092\n",
      "Epoch 15/50\n",
      "187/187 [==============================] - 9s 47ms/step - loss: 0.2703 - acc: 0.9022 - val_loss: 0.2476 - val_acc: 0.9068\n",
      "Epoch 16/50\n",
      "187/187 [==============================] - 9s 49ms/step - loss: 0.2663 - acc: 0.9033 - val_loss: 0.2603 - val_acc: 0.9054\n",
      "Epoch 17/50\n",
      "187/187 [==============================] - 9s 47ms/step - loss: 0.2649 - acc: 0.9043 - val_loss: 0.2507 - val_acc: 0.9106\n",
      "Epoch 18/50\n",
      "187/187 [==============================] - 9s 48ms/step - loss: 0.2602 - acc: 0.9065 - val_loss: 0.2346 - val_acc: 0.9168\n",
      "Epoch 19/50\n",
      "187/187 [==============================] - 9s 47ms/step - loss: 0.2589 - acc: 0.9075 - val_loss: 0.2373 - val_acc: 0.9133\n",
      "Epoch 20/50\n",
      "187/187 [==============================] - 8s 45ms/step - loss: 0.2609 - acc: 0.9050 - val_loss: 0.2546 - val_acc: 0.9086\n",
      "Epoch 21/50\n",
      "187/187 [==============================] - 9s 46ms/step - loss: 0.2567 - acc: 0.9088 - val_loss: 0.2450 - val_acc: 0.9097\n",
      "Epoch 22/50\n",
      "187/187 [==============================] - 9s 47ms/step - loss: 0.2522 - acc: 0.9098 - val_loss: 0.2772 - val_acc: 0.8991\n",
      "Epoch 23/50\n",
      "187/187 [==============================] - 9s 46ms/step - loss: 0.2475 - acc: 0.9107 - val_loss: 0.2298 - val_acc: 0.9162\n",
      "Epoch 24/50\n",
      "187/187 [==============================] - 9s 46ms/step - loss: 0.2486 - acc: 0.9091 - val_loss: 0.2364 - val_acc: 0.9149\n",
      "Epoch 25/50\n",
      "187/187 [==============================] - 9s 47ms/step - loss: 0.2481 - acc: 0.9097 - val_loss: 0.2628 - val_acc: 0.9063\n",
      "Epoch 26/50\n",
      "187/187 [==============================] - 8s 45ms/step - loss: 0.2444 - acc: 0.9124 - val_loss: 0.2209 - val_acc: 0.9194\n",
      "Epoch 27/50\n",
      "187/187 [==============================] - 9s 46ms/step - loss: 0.2399 - acc: 0.9124 - val_loss: 0.2347 - val_acc: 0.9140\n",
      "Epoch 28/50\n",
      "187/187 [==============================] - 9s 47ms/step - loss: 0.2426 - acc: 0.9137 - val_loss: 0.2120 - val_acc: 0.9246\n",
      "Epoch 29/50\n",
      "187/187 [==============================] - 9s 47ms/step - loss: 0.2380 - acc: 0.9134 - val_loss: 0.2228 - val_acc: 0.9200\n",
      "Epoch 30/50\n",
      "187/187 [==============================] - 9s 48ms/step - loss: 0.2352 - acc: 0.9140 - val_loss: 0.2161 - val_acc: 0.9219\n",
      "Epoch 31/50\n",
      "187/187 [==============================] - 9s 46ms/step - loss: 0.2338 - acc: 0.9161 - val_loss: 0.2213 - val_acc: 0.9239\n",
      "Epoch 32/50\n",
      "187/187 [==============================] - 9s 47ms/step - loss: 0.2344 - acc: 0.9148 - val_loss: 0.2236 - val_acc: 0.9189\n",
      "Epoch 33/50\n",
      "187/187 [==============================] - 9s 46ms/step - loss: 0.2313 - acc: 0.9162 - val_loss: 0.2179 - val_acc: 0.9226\n",
      "Epoch 34/50\n",
      "187/187 [==============================] - 8s 45ms/step - loss: 0.2331 - acc: 0.9140 - val_loss: 0.2274 - val_acc: 0.9199\n",
      "Epoch 35/50\n",
      "187/187 [==============================] - 9s 46ms/step - loss: 0.2318 - acc: 0.9149 - val_loss: 0.2203 - val_acc: 0.9222\n",
      "Epoch 36/50\n",
      "187/187 [==============================] - 9s 46ms/step - loss: 0.2293 - acc: 0.9164 - val_loss: 0.2264 - val_acc: 0.9170\n",
      "Epoch 37/50\n",
      "187/187 [==============================] - 8s 44ms/step - loss: 0.2245 - acc: 0.9172 - val_loss: 0.2327 - val_acc: 0.9169\n",
      "Epoch 38/50\n",
      "187/187 [==============================] - 9s 46ms/step - loss: 0.2271 - acc: 0.9172 - val_loss: 0.2329 - val_acc: 0.9183\n",
      "Epoch 39/50\n",
      "187/187 [==============================] - 9s 46ms/step - loss: 0.2247 - acc: 0.9175 - val_loss: 0.2151 - val_acc: 0.9230\n",
      "Epoch 40/50\n",
      "187/187 [==============================] - 9s 46ms/step - loss: 0.2222 - acc: 0.9200 - val_loss: 0.2122 - val_acc: 0.9244\n",
      "Epoch 41/50\n",
      "187/187 [==============================] - 9s 46ms/step - loss: 0.2224 - acc: 0.9204 - val_loss: 0.2166 - val_acc: 0.9235\n",
      "Epoch 42/50\n",
      "187/187 [==============================] - 9s 47ms/step - loss: 0.2205 - acc: 0.9203 - val_loss: 0.2130 - val_acc: 0.9222\n",
      "Epoch 43/50\n",
      "187/187 [==============================] - 9s 47ms/step - loss: 0.2172 - acc: 0.9228 - val_loss: 0.2211 - val_acc: 0.9212\n",
      "Epoch 44/50\n",
      "187/187 [==============================] - 9s 46ms/step - loss: 0.2166 - acc: 0.9211 - val_loss: 0.2121 - val_acc: 0.9260\n",
      "Epoch 45/50\n",
      "187/187 [==============================] - 8s 44ms/step - loss: 0.2188 - acc: 0.9208 - val_loss: 0.2053 - val_acc: 0.9274\n",
      "Epoch 46/50\n",
      "187/187 [==============================] - 9s 47ms/step - loss: 0.2133 - acc: 0.9235 - val_loss: 0.2066 - val_acc: 0.9257\n",
      "Epoch 47/50\n",
      "187/187 [==============================] - 9s 46ms/step - loss: 0.2151 - acc: 0.9229 - val_loss: 0.2166 - val_acc: 0.9235\n",
      "Epoch 48/50\n",
      "187/187 [==============================] - 9s 46ms/step - loss: 0.2134 - acc: 0.9223 - val_loss: 0.2082 - val_acc: 0.9248\n",
      "Epoch 49/50\n",
      "187/187 [==============================] - 9s 48ms/step - loss: 0.2115 - acc: 0.9236 - val_loss: 0.2148 - val_acc: 0.9232\n",
      "Epoch 50/50\n",
      "187/187 [==============================] - 9s 47ms/step - loss: 0.2127 - acc: 0.9230 - val_loss: 0.2025 - val_acc: 0.9269\n"
     ]
    }
   ],
   "source": [
    "history4 = cnn4.fit_generator(train_batches, steps_per_epoch=48000//256, epochs=50,\n",
    "                    validation_data=val_batches, validation_steps=12000//256, use_multiprocessing=True)"
   ]
  },
  {
   "cell_type": "code",
   "execution_count": 12,
   "metadata": {},
   "outputs": [
    {
     "name": "stdout",
     "output_type": "stream",
     "text": [
      "Test loss: 0.18289670552909373\n",
      "Test accuracy: 0.9341\n"
     ]
    }
   ],
   "source": [
    "score4 = cnn4.evaluate(X_test, y_test, verbose=0)\n",
    "print('Test loss:', score4[0])\n",
    "print('Test accuracy:', score4[1])"
   ]
  },
  {
   "cell_type": "code",
   "execution_count": 13,
   "metadata": {},
   "outputs": [
    {
     "data": {
      "image/png": "[encoded data removed]",
      "text/plain": [
       "<Figure size 432x288 with 1 Axes>"
      ]
     },
     "metadata": {
      "needs_background": "light"
     },
     "output_type": "display_data"
    },
    {
     "data": {
      "image/png": "[encoded data removed]",
      "text/plain": [
       "<Figure size 432x288 with 1 Axes>"
      ]
     },
     "metadata": {
      "needs_background": "light"
     },
     "output_type": "display_data"
    }
   ],
   "source": [
    "import matplotlib.pyplot as plt\n",
    "%matplotlib inline\n",
    "\n",
    "accuracy = history4.history['acc']\n",
    "val_accuracy = history4.history['val_acc']\n",
    "loss = history4.history['loss']\n",
    "val_loss = history4.history['val_loss']\n",
    "epochs = range(len(accuracy))\n",
    "\n",
    "plt.plot(epochs, accuracy, 'bo', label='Training accuracy')\n",
    "plt.plot(epochs, val_accuracy, 'b', label='Validation accuracy')\n",
    "plt.title('Training and validation accuracy')\n",
    "plt.legend()\n",
    "plt.figure()\n",
    "\n",
    "plt.plot(epochs, loss, 'bo', label='Training loss')\n",
    "plt.plot(epochs, val_loss, 'b', label='Validation loss')\n",
    "plt.title('Training and validation loss')\n",
    "plt.legend()\n",
    "plt.show()"
   ]
  },
  {
   "cell_type": "markdown",
   "metadata": {},
   "source": [
    "### 分類された結果をもう少し詳しく見てみる\n",
    " - clasffication repotを使う"
   ]
  },
  {
   "cell_type": "code",
   "execution_count": 17,
   "metadata": {},
   "outputs": [],
   "source": [
    "# 予測したラベルを取り出す\n",
    "predicted_classes = cnn4.predict_classes(X_test)\n",
    "\n",
    "_, y_true = mnist_reader.load_mnist('../data/fashion', kind='t10k')\n",
    "correct = np.nonzero(predicted_classes==y_true)[0]\n",
    "incorrect = np.nonzero(predicted_classes!=y_true)[0]"
   ]
  },
  {
   "cell_type": "code",
   "execution_count": 18,
   "metadata": {},
   "outputs": [
    {
     "name": "stdout",
     "output_type": "stream",
     "text": [
      "              precision    recall  f1-score   support\n",
      "\n",
      "     Class 0       0.91      0.86      0.88      1000\n",
      "     Class 1       1.00      0.99      0.99      1000\n",
      "     Class 2       0.93      0.90      0.91      1000\n",
      "     Class 3       0.93      0.94      0.93      1000\n",
      "     Class 4       0.91      0.90      0.91      1000\n",
      "     Class 5       0.98      0.98      0.98      1000\n",
      "     Class 6       0.77      0.84      0.80      1000\n",
      "     Class 7       0.95      0.99      0.97      1000\n",
      "     Class 8       0.99      0.99      0.99      1000\n",
      "     Class 9       0.99      0.95      0.97      1000\n",
      "\n",
      "   micro avg       0.93      0.93      0.93     10000\n",
      "   macro avg       0.94      0.93      0.93     10000\n",
      "weighted avg       0.94      0.93      0.93     10000\n",
      "\n"
     ]
    }
   ],
   "source": [
    "from sklearn.metrics import classification_report\n",
    "target_names = [\"Class {}\".format(i) for i in range(10)]\n",
    "print(classification_report(y_true, predicted_classes, target_names=target_names))"
   ]
  },
  {
   "cell_type": "code",
   "execution_count": 19,
   "metadata": {},
   "outputs": [
    {
     "data": {
      "image/png": "[encoded data removed]",
      "text/plain": [
       "<Figure size 432x288 with 9 Axes>"
      ]
     },
     "metadata": {
      "needs_background": "light"
     },
     "output_type": "display_data"
    }
   ],
   "source": [
    "for i, correct in enumerate(correct[:9]):\n",
    "    plt.subplot(3,3,i+1)\n",
    "    plt.imshow(X_test[correct].reshape(28,28), cmap='gray', interpolation='none')\n",
    "    plt.title(\"Predicted {}, Class {}\".format(predicted_classes[correct], y_true[correct]))\n",
    "    plt.tight_layout()"
   ]
  },
  {
   "cell_type": "code",
   "execution_count": 20,
   "metadata": {},
   "outputs": [
    {
     "data": {
      "image/png": "[encoded data removed]",
      "text/plain": [
       "<Figure size 432x288 with 9 Axes>"
      ]
     },
     "metadata": {
      "needs_background": "light"
     },
     "output_type": "display_data"
    }
   ],
   "source": [
    "for i, incorrect in enumerate(incorrect[0:9]):\n",
    "    plt.subplot(3,3,i+1)\n",
    "    plt.imshow(X_test[incorrect].reshape(28,28), cmap='gray', interpolation='none')\n",
    "    plt.title(\"Predicted {}, Class {}\".format(predicted_classes[incorrect], y_true[incorrect]))\n",
    "    plt.tight_layout()"
   ]
  },
  {
   "cell_type": "code",
   "execution_count": null,
   "metadata": {},
   "outputs": [],
   "source": []
  }
 ],
 "metadata": {
  "kernelspec": {
   "display_name": "TensorFlow-GPU",
   "language": "python",
   "name": "tf-gpu"
  },
  "language_info": {
   "codemirror_mode": {
    "name": "ipython",
    "version": 3
   },
   "file_extension": ".py",
   "mimetype": "text/x-python",
   "name": "python",
   "nbconvert_exporter": "python",
   "pygments_lexer": "ipython3",
   "version": "3.6.8"
  }
 },
 "nbformat": 4,
 "nbformat_minor": 2
}
